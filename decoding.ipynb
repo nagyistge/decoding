{
 "metadata": {
  "name": ""
 },
 "nbformat": 3,
 "nbformat_minor": 0,
 "worksheets": [
  {
   "cells": [
    {
     "cell_type": "markdown",
     "metadata": {},
     "source": [
      "# Overview\n",
      "\n",
      "We have images from [neurovault](http://www.neurovault.org) associated with contrasts that are tagged with concepts from the [Cognitive Atlas](http://www.cognitiveatlas.org), and while our ultimate goal is to calculate ontological similarity of these images, this is not possible until we have better defined how concepts are related in the ontology. In the meantime, however, we can do a decoding analysis, or predicting brain activation based on tagged concepts, using this data.\n",
      "\n",
      "Toward this goal, I have created a decoding matrix, along with this ipython notebook to describe this analysis. First I will do a brief review of decoding from [this paper](http://www.ncbi.nlm.nih.gov/pmc/articles/PMC3037423/), followed by a review of the analyses and results.\n",
      "\n",
      "#### Decoding\n",
      "We can use linear classification to predict experimental variables from voxel patterns. Since we are going from data --> reality, this is called \"decoding.\" The opposite, then, is \"encoding,\" or starting with experimental variables (stimuli) and then predicting the pattern of brain activation. In summary:\n",
      "\n",
      "- encoding: use stimuli to predict brain activity. What can we learn about brain activation knowing stimuli?\n",
      "- decoding: use brain activity to predict stimuli. What can we learn about the world from seeing brain activation?\n",
      "\n",
      "The paper is arguing that encoding is more powerful than decoding for the following reasons:\n",
      "\n",
      "- Can provide a complete functional description of a region of interest. A decoding model (predicting stimuli from brain activity) only provides a partial description because there could be stimuli that we haven't seen that would correspond with the same brain activity.\n",
      "- Can be used to derive a decoding model.\n",
      "\n",
      "The authors of this paper are taking an approach that estimates an encoding model (using stimuli to predict brain activity) for every voxel, and then using those encoding models to perform decoding (take a new map that we don't know anything about the stimuli and predict the stimuli)."
     ]
    }
   ],
   "metadata": {}
  }
 ]
}