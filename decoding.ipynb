{
 "metadata": {
  "name": ""
 },
 "nbformat": 3,
 "nbformat_minor": 0,
 "worksheets": [
  {
   "cells": [
    {
     "cell_type": "markdown",
     "metadata": {},
     "source": [
      "# Overview\n",
      "\n",
      "We have images from [neurovault](http://www.neurovault.org) associated with contrasts that are tagged with concepts from the [Cognitive Atlas](http://www.cognitiveatlas.org), and while our ultimate goal is to calculate ontological similarity of these images, this is not possible until we have better defined how concepts are related in the ontology. In the meantime, however, we can do a decoding analysis, or predicting brain activation based on tagged concepts, using this data.\n",
      "\n",
      "Toward this goal, I have created a decoding matrix, along with this ipython notebook to describe this analysis. First I will do a brief review of decoding from [this paper](http://www.ncbi.nlm.nih.gov/pmc/articles/PMC3037423/), followed by a review of the analyses and results."
     ]
    }
   ],
   "metadata": {}
  }
 ]
}